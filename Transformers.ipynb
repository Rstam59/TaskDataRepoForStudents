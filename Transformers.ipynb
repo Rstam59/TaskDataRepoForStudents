{
  "nbformat": 4,
  "nbformat_minor": 0,
  "metadata": {
    "colab": {
      "provenance": [],
      "authorship_tag": "ABX9TyPRqW3Sf7nDYacDhU7LoZaR",
      "include_colab_link": true
    },
    "kernelspec": {
      "name": "python3",
      "display_name": "Python 3"
    },
    "language_info": {
      "name": "python"
    }
  },
  "cells": [
    {
      "cell_type": "markdown",
      "metadata": {
        "id": "view-in-github",
        "colab_type": "text"
      },
      "source": [
        "<a href=\"https://colab.research.google.com/github/Rstam59/TaskDataRepoForStudents/blob/main/Transformers.ipynb\" target=\"_parent\"><img src=\"https://colab.research.google.com/assets/colab-badge.svg\" alt=\"Open In Colab\"/></a>"
      ]
    },
    {
      "cell_type": "markdown",
      "source": [
        "#Sentiment Classification"
      ],
      "metadata": {
        "id": "LGcOTxgxQQkD"
      }
    },
    {
      "cell_type": "code",
      "source": [
        "from transformers import pipeline\n",
        "\n",
        "classifier = pipeline('sentiment-analysis')\n",
        "classifier('I really loved that country')\n"
      ],
      "metadata": {
        "id": "6iZjN5MGNwOA"
      },
      "execution_count": null,
      "outputs": []
    },
    {
      "cell_type": "code",
      "source": [
        "classifier([\n",
        "    'she is a terrible person',\n",
        "    'He is the best person ever',\n",
        "    'Iraq is a beautiful country'\n",
        "])"
      ],
      "metadata": {
        "id": "Jsz10pxOOCov"
      },
      "execution_count": null,
      "outputs": []
    },
    {
      "cell_type": "markdown",
      "source": [
        "#Zero-shot Classification"
      ],
      "metadata": {
        "id": "WhXaemUpOQNS"
      }
    },
    {
      "cell_type": "code",
      "source": [
        "from transformers import pipeline\n",
        "\n",
        "classifier = pipeline('zero-shot-classification')\n",
        "classifier('it was my first visit to that country',\n",
        "           candidate_labels = ['job', 'fun', 'travel'])"
      ],
      "metadata": {
        "id": "F82n5nqEQpOY"
      },
      "execution_count": null,
      "outputs": []
    },
    {
      "cell_type": "markdown",
      "source": [
        "#Text-generation"
      ],
      "metadata": {
        "id": "pb8Kz3cpRHMK"
      }
    },
    {
      "cell_type": "code",
      "source": [
        "generator = pipeline('text-generation')\n",
        "generator('Learning AI is really important because')"
      ],
      "metadata": {
        "id": "SVeojhqbRmFv"
      },
      "execution_count": null,
      "outputs": []
    },
    {
      "cell_type": "markdown",
      "source": [
        "#Using Different Hugging Face models"
      ],
      "metadata": {
        "id": "y8gVHDGfR5_g"
      }
    },
    {
      "cell_type": "code",
      "source": [
        "generator = pipeline('text-generation', model = 'HuggingFaceTB/SmolLM2-360M')\n",
        "generator('Learning AI is really important because',\n",
        "          max_length = 30)"
      ],
      "metadata": {
        "id": "fjN2K_ExQDzq"
      },
      "execution_count": null,
      "outputs": []
    },
    {
      "cell_type": "markdown",
      "source": [
        "#Mask filling"
      ],
      "metadata": {
        "id": "79QZoZz7QXGa"
      }
    },
    {
      "cell_type": "code",
      "source": [
        "from transformers import pipeline\n",
        "\n",
        "unmasker = pipeline(\"fill-mask\")\n",
        "unmasker(\"This course will teach you all about <mask> models.\", top_k=2)"
      ],
      "metadata": {
        "id": "dQ29_r0cchg8"
      },
      "execution_count": null,
      "outputs": []
    },
    {
      "cell_type": "markdown",
      "source": [
        "#Name entity recognition"
      ],
      "metadata": {
        "id": "XgANj2qlckXL"
      }
    },
    {
      "cell_type": "code",
      "source": [
        "from transformers import pipeline\n",
        "\n",
        "ner = pipeline(\"ner\", grouped_entities=True)\n",
        "ner(\"My name is Sylvain and I work at Hugging Face in Brooklyn.\")"
      ],
      "metadata": {
        "id": "YzjGwb-5veQn"
      },
      "execution_count": null,
      "outputs": []
    },
    {
      "cell_type": "markdown",
      "source": [
        "# Question answering"
      ],
      "metadata": {
        "id": "aoNf2A2Wvezm"
      }
    },
    {
      "cell_type": "code",
      "source": [
        "from transformers import pipeline\n",
        "\n",
        "question_answerer = pipeline(\"question-answering\")\n",
        "question_answerer(\n",
        "    question=\"Where do I work?\",\n",
        "    context=\"My name is Sylvain and I work at\",\n",
        ")"
      ],
      "metadata": {
        "id": "GRYN74pQvzAU"
      },
      "execution_count": null,
      "outputs": []
    },
    {
      "cell_type": "markdown",
      "source": [
        "# Summarization"
      ],
      "metadata": {
        "id": "iCE6-Xpav1dj"
      }
    },
    {
      "cell_type": "code",
      "source": [
        "from transformers import pipeline\n",
        "\n",
        "summarizer = pipeline(\"summarization\")\n",
        "summarizer(\n",
        "    \"\"\"\n",
        "    AI stands for Artificial Intelligence. It helps machines do things that usually need human thinking,\n",
        "    like solving problems or understanding language. You can find AI in phones where it recognizes your voice and answers questions.\n",
        "    It's also in cars that can drive themselves without human help. When you watch YouTube or Netflix, AI helps suggest what you might like next.\n",
        "    Some AI programs can even beat the best humans at games like chess. Businesses use AI to chat with customers and answer questions quickly.\n",
        "    On websites, you might have talked to a chatbot—that’s AI too. Scientists are working to make AI smarter every year. People are also thinking\n",
        "    about how AI will change jobs and the way we live.\n",
        "\"\"\"\n",
        ")"
      ],
      "metadata": {
        "id": "oq0Hkvfrv_WE"
      },
      "execution_count": null,
      "outputs": []
    },
    {
      "cell_type": "markdown",
      "source": [
        "# Translation"
      ],
      "metadata": {
        "id": "fuVaJgxSwwiN"
      }
    },
    {
      "cell_type": "code",
      "source": [
        "from transformers import pipeline\n",
        "\n",
        "translator = pipeline(\"translation\", model=\"Helsinki-NLP/opus-mt-fr-ru\")\n",
        "translator(\"Ce cours est produit par Hugging Face.\")"
      ],
      "metadata": {
        "id": "5S0rsdT9yggK"
      },
      "execution_count": null,
      "outputs": []
    },
    {
      "cell_type": "markdown",
      "source": [
        "# Image classification"
      ],
      "metadata": {
        "id": "WYGFTZpJyinZ"
      }
    },
    {
      "cell_type": "code",
      "source": [
        "from transformers import pipeline\n",
        "\n",
        "image_classifier = pipeline(\n",
        "    task=\"image-classification\", model=\"google/vit-base-patch16-224\"\n",
        ")\n",
        "result = image_classifier(\n",
        "    \"https://huggingface.co/datasets/huggingface/documentation-images/resolve/main/pipeline-cat-chonk.jpeg\"\n",
        ")\n",
        "print(result)"
      ],
      "metadata": {
        "id": "xuI9xBG3y71u"
      },
      "execution_count": null,
      "outputs": []
    },
    {
      "cell_type": "markdown",
      "source": [
        "# Automatic speech recognition\n"
      ],
      "metadata": {
        "id": "KrcokgIXzCPi"
      }
    },
    {
      "cell_type": "code",
      "source": [
        "from transformers import pipeline\n",
        "\n",
        "transcriber = pipeline(\n",
        "    task=\"automatic-speech-recognition\", model=\"openai/whisper-large-v3\"\n",
        ")\n",
        "result = transcriber(\n",
        "    \"https://huggingface.co/datasets/Narsil/asr_dummy/resolve/main/mlk.flac\"\n",
        ")\n",
        "print(result)"
      ],
      "metadata": {
        "id": "xSzVKjfxzTQ4"
      },
      "execution_count": null,
      "outputs": []
    },
    {
      "cell_type": "code",
      "source": [],
      "metadata": {
        "id": "X3HNMzctzVcK"
      },
      "execution_count": null,
      "outputs": []
    }
  ]
}