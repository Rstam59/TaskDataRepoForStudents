{
  "nbformat": 4,
  "nbformat_minor": 0,
  "metadata": {
    "colab": {
      "provenance": [],
      "gpuType": "T4",
      "authorship_tag": "ABX9TyOiVbSCNieHRtGYWD5yyFmn",
      "include_colab_link": true
    },
    "kernelspec": {
      "name": "python3",
      "display_name": "Python 3"
    },
    "language_info": {
      "name": "python"
    },
    "accelerator": "GPU"
  },
  "cells": [
    {
      "cell_type": "markdown",
      "metadata": {
        "id": "view-in-github",
        "colab_type": "text"
      },
      "source": [
        "<a href=\"https://colab.research.google.com/github/Rstam59/TaskDataRepoForStudents/blob/main/Mnist_Pytorch.ipynb\" target=\"_parent\"><img src=\"https://colab.research.google.com/assets/colab-badge.svg\" alt=\"Open In Colab\"/></a>"
      ]
    },
    {
      "cell_type": "markdown",
      "source": [
        "#High level"
      ],
      "metadata": {
        "id": "xkxMK-7-uElu"
      }
    },
    {
      "cell_type": "code",
      "execution_count": 1,
      "metadata": {
        "colab": {
          "base_uri": "https://localhost:8080/"
        },
        "id": "-wQ_6-AuNR--",
        "outputId": "34649cf4-7f1e-424a-8a89-227f12d2d128"
      },
      "outputs": [
        {
          "output_type": "stream",
          "name": "stderr",
          "text": [
            "100%|██████████| 9.91M/9.91M [00:00<00:00, 18.5MB/s]\n",
            "100%|██████████| 28.9k/28.9k [00:00<00:00, 502kB/s]\n",
            "100%|██████████| 1.65M/1.65M [00:00<00:00, 4.63MB/s]\n",
            "100%|██████████| 4.54k/4.54k [00:00<00:00, 5.71MB/s]\n"
          ]
        }
      ],
      "source": [
        "import torch\n",
        "import torch.nn as nn\n",
        "import torch.optim as optim\n",
        "from torch.utils.data import DataLoader\n",
        "from torchvision import datasets, transforms\n",
        "\n",
        "\n",
        "dataset = datasets.MNIST(root='./data', train=True, download=True, transform=transforms.ToTensor())\n",
        "loader = DataLoader(dataset, batch_size = 60000, shuffle = True)"
      ]
    },
    {
      "cell_type": "code",
      "source": [
        "images, _ = next(iter(loader))"
      ],
      "metadata": {
        "id": "cTH3VO1yP8Dv"
      },
      "execution_count": 2,
      "outputs": []
    },
    {
      "cell_type": "code",
      "source": [
        "mean = images.mean()\n",
        "std = images.std()\n",
        "\n",
        "print(f\"Calculated mean: {mean}\")\n",
        "print(f\"Calculated std: {std}\")"
      ],
      "metadata": {
        "colab": {
          "base_uri": "https://localhost:8080/"
        },
        "id": "I7jk753mnBrE",
        "outputId": "cbfb99c3-d6bb-4768-9818-0e0b1a3f0101"
      },
      "execution_count": 3,
      "outputs": [
        {
          "output_type": "stream",
          "name": "stdout",
          "text": [
            "Calculated mean: 0.13066047430038452\n",
            "Calculated std: 0.30810782313346863\n"
          ]
        }
      ]
    },
    {
      "cell_type": "code",
      "source": [
        "transform = transforms.Compose([\n",
        "    transforms.ToTensor(),\n",
        "    transforms.Normalize((mean,), (std,))\n",
        "])\n"
      ],
      "metadata": {
        "id": "tuWR4fMCm8Ge"
      },
      "execution_count": 4,
      "outputs": []
    },
    {
      "cell_type": "code",
      "source": [
        "train_dataset = datasets.MNIST(root='./data', train=True, download=True, transform=transform)\n",
        "test_dataset = datasets.MNIST(root='./data', train=False, download=True, transform=transform)\n",
        "\n",
        "train_loader = DataLoader(train_dataset, batch_size=64, shuffle=True)\n",
        "test_loader = DataLoader(test_dataset, batch_size=64, shuffle=False)"
      ],
      "metadata": {
        "id": "9mvrF76voV3Q"
      },
      "execution_count": 5,
      "outputs": []
    },
    {
      "cell_type": "code",
      "source": [
        "device = torch.device('cuda' if torch.cuda.is_available() else 'cpu')\n",
        "\n",
        "model = nn.Sequential(\n",
        "    nn.Conv2d(1, 32, 3, 1),\n",
        "    nn.ReLU(),\n",
        "    nn.MaxPool2d(2),\n",
        "\n",
        "    nn.Conv2d(32, 64, 3, 1),\n",
        "    nn.ReLU(),\n",
        "    nn.MaxPool2d(2),\n",
        "\n",
        "    nn.Flatten(),\n",
        "    nn.Linear(64 * 5 * 5, 128),\n",
        "    nn.ReLU(),\n",
        "    nn.Linear(128, 10)\n",
        ").to(device)"
      ],
      "metadata": {
        "id": "elc0uc9fpSaX"
      },
      "execution_count": 6,
      "outputs": []
    },
    {
      "cell_type": "code",
      "source": [
        "criterion = nn.CrossEntropyLoss()\n",
        "optimizer = optim.Adam(model.parameters(), lr = 0.001)"
      ],
      "metadata": {
        "id": "DOkQgIHSp2AZ"
      },
      "execution_count": 7,
      "outputs": []
    },
    {
      "cell_type": "code",
      "source": [
        "def train_epoch(model, loader):\n",
        "    model.train()\n",
        "    total_loss = 0\n",
        "    for images, labels in loader:\n",
        "        images, labels = images.to(device), labels.to(device)\n",
        "        optimizer.zero_grad()\n",
        "        y_pred = model(images)\n",
        "        loss = criterion(y_pred, labels)\n",
        "        loss.backward()\n",
        "        optimizer.step()\n",
        "        total_loss += loss.item()\n",
        "    print(f\"Train Loss: {total_loss / len(loader)}\")\n",
        "\n",
        "\n",
        "def evaluate(model, loader):\n",
        "    model.eval()\n",
        "    correct = 0\n",
        "    total = 0\n",
        "    with torch.no_grad():\n",
        "        for images, labels in loader:\n",
        "            images, labels = images.to(device), labels.to(device)\n",
        "            y_pred = model(images).argmax(dim = 1)\n",
        "            total += labels.size(0)\n",
        "            correct += (y_pred == labels).sum().item()\n",
        "    print(f\"Accuracy: {100 * correct / total}\")"
      ],
      "metadata": {
        "id": "WNZZepWdqQvH"
      },
      "execution_count": 8,
      "outputs": []
    },
    {
      "cell_type": "code",
      "source": [
        "for _ in range(3):\n",
        "    train_epoch(model, train_loader)\n",
        "    evaluate(model, test_loader)"
      ],
      "metadata": {
        "colab": {
          "base_uri": "https://localhost:8080/"
        },
        "id": "ELQjMpVRr0-e",
        "outputId": "67d90f0f-5e7b-445c-c218-739b350c617e"
      },
      "execution_count": 9,
      "outputs": [
        {
          "output_type": "stream",
          "name": "stdout",
          "text": [
            "Train Loss: 0.13912730698120285\n",
            "Accuracy: 98.47\n",
            "Train Loss: 0.04506941373931117\n",
            "Accuracy: 98.51\n",
            "Train Loss: 0.03109716234154312\n",
            "Accuracy: 98.93\n"
          ]
        }
      ]
    },
    {
      "cell_type": "markdown",
      "source": [
        "#Low level"
      ],
      "metadata": {
        "id": "bxXl_Hzxr6wi"
      }
    },
    {
      "cell_type": "code",
      "source": [
        "import torch\n",
        "import torch.nn as nn\n",
        "import torch.optim as optim\n",
        "from torch.utils.data import DataLoader\n",
        "from torchvision import datasets, transforms\n",
        "\n",
        "# === 1. Set device\n",
        "device = torch.device(\"cuda\" if torch.cuda.is_available() else \"cpu\")\n",
        "\n",
        "# === 2. Calculate mean and std (optional - can hardcode 0.1307, 0.3081)\n",
        "tmp_dataset = datasets.MNIST(root='./data', train=True, download=True, transform=transforms.ToTensor())\n",
        "tmp_loader = DataLoader(tmp_dataset, batch_size=60000, shuffle=False)\n",
        "imgs, _ = next(iter(tmp_loader))\n",
        "mean = imgs.mean()\n",
        "std = imgs.std()\n",
        "\n",
        "# === 3. Define transform\n",
        "transform = transforms.Compose([\n",
        "    transforms.ToTensor(),\n",
        "    transforms.Normalize((mean,), (std,))\n",
        "])\n",
        "\n",
        "# === 4. Prepare datasets\n",
        "train_dataset = datasets.MNIST(root='./data', train=True, transform=transform)\n",
        "test_dataset = datasets.MNIST(root='./data', train=False, transform=transform)\n",
        "\n",
        "train_loader = DataLoader(train_dataset, batch_size=64, shuffle=True)\n",
        "test_loader = DataLoader(test_dataset, batch_size=1000)\n",
        "\n",
        "# === 5. Define model using low-level API\n",
        "class CNN(nn.Module):\n",
        "    def __init__(self):\n",
        "        super().__init__()\n",
        "        self.conv1 = nn.Conv2d(1, 32, 3, 1)   # [B, 1, 28, 28] -> [B, 32, 26, 26]\n",
        "        self.relu1 = nn.ReLU()\n",
        "        self.pool1 = nn.MaxPool2d(2)          # [B, 32, 13, 13]\n",
        "\n",
        "        self.conv2 = nn.Conv2d(32, 64, 3, 1)  # [B, 64, 11, 11]\n",
        "        self.relu2 = nn.ReLU()\n",
        "        self.pool2 = nn.MaxPool2d(2)          # [B, 64, 5, 5]\n",
        "\n",
        "        self.flatten = nn.Flatten()           # [B, 64*5*5]\n",
        "        self.fc1 = nn.Linear(64 * 5 * 5, 128)\n",
        "        self.relu3 = nn.ReLU()\n",
        "        self.fc2 = nn.Linear(128, 10)\n",
        "\n",
        "    def forward(self, x):\n",
        "        x = self.pool1(self.relu1(self.conv1(x)))\n",
        "        x = self.pool2(self.relu2(self.conv2(x)))\n",
        "        x = self.flatten(x)\n",
        "        x = self.relu3(self.fc1(x))\n",
        "        x = self.fc2(x)\n",
        "        return x\n",
        "\n",
        "model = CNN().to(device)\n",
        "\n",
        "# === 6. Loss and optimizer\n",
        "criterion = nn.CrossEntropyLoss()\n",
        "optimizer = optim.Adam(model.parameters(), lr=0.001)\n",
        "\n",
        "# === 7. Training loop\n",
        "def train_one_epoch(model, loader):\n",
        "    model.train()\n",
        "    total_loss = 0\n",
        "    for x, y in loader:\n",
        "        x, y = x.to(device), y.to(device)\n",
        "        optimizer.zero_grad()\n",
        "        output = model(x)\n",
        "        loss = criterion(output, y)\n",
        "        loss.backward()\n",
        "        optimizer.step()\n",
        "        total_loss += loss.item()\n",
        "    print(f\"Train loss: {total_loss / len(loader):.4f}\")\n",
        "\n",
        "# === 8. Evaluation\n",
        "def evaluate(model, loader):\n",
        "    model.eval()\n",
        "    correct = 0\n",
        "    total = 0\n",
        "    with torch.no_grad():\n",
        "        for x, y in loader:\n",
        "            x, y = x.to(device), y.to(device)\n",
        "            preds = model(x).argmax(dim=1)\n",
        "            correct += (preds == y).sum().item()\n",
        "            total += y.size(0)\n",
        "    print(f\"Test accuracy: {100 * correct / total:.2f}%\")\n",
        "\n",
        "# === 9. Run training\n",
        "for epoch in range(1, 6):\n",
        "    print(f\"Epoch {epoch}\")\n",
        "    train_one_epoch(model, train_loader)\n",
        "    evaluate(model, test_loader)\n"
      ],
      "metadata": {
        "colab": {
          "base_uri": "https://localhost:8080/"
        },
        "id": "rtee6kueuH_m",
        "outputId": "f97760a9-017a-484d-e0fe-c76e63573509"
      },
      "execution_count": 10,
      "outputs": [
        {
          "output_type": "stream",
          "name": "stdout",
          "text": [
            "Epoch 1\n",
            "Train loss: 0.1406\n",
            "Test accuracy: 98.65%\n",
            "Epoch 2\n",
            "Train loss: 0.0431\n",
            "Test accuracy: 98.70%\n",
            "Epoch 3\n",
            "Train loss: 0.0306\n",
            "Test accuracy: 99.10%\n",
            "Epoch 4\n",
            "Train loss: 0.0216\n",
            "Test accuracy: 99.24%\n",
            "Epoch 5\n",
            "Train loss: 0.0160\n",
            "Test accuracy: 98.95%\n"
          ]
        }
      ]
    },
    {
      "cell_type": "code",
      "source": [],
      "metadata": {
        "id": "_QPaxYtJuJjR"
      },
      "execution_count": null,
      "outputs": []
    }
  ]
}